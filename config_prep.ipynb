{
 "cells": [
  {
   "cell_type": "code",
   "execution_count": 41,
   "metadata": {
    "collapsed": false
   },
   "outputs": [],
   "source": [
    "import glob\n",
    "import os\n",
    "import yaml\n",
    "import pandas as pd"
   ]
  },
  {
   "cell_type": "code",
   "execution_count": 42,
   "metadata": {
    "collapsed": false
   },
   "outputs": [],
   "source": [
    "def open_sample_sheet(sample_sheet_fp, lanes=False, skiprows=18):\n",
    "    \"\"\"Read in an IGM sample sheet and return a pandas DF with primary data table\"\"\"\n",
    "    sample_sheet = pd.read_excel(sample_sheet_fp, skiprows = skiprows, header=1)\n",
    "    \n",
    "    # Remove trailing whitespace from column names and homogenize case\n",
    "    sample_sheet.columns = [x.strip().lower() for x in sample_sheet.columns]\n",
    "    \n",
    "    if lanes:\n",
    "        sample_sheet = sample_sheet.loc[sample_sheet['lane'].isin(lanes)]\n",
    "    if 'sample name' not in sample_sheet.columns and 'sample_id' in sample_sheet.columns:\n",
    "        sample_sheet['sample name'] = sample_sheet['sample_id']\n",
    "\n",
    "    return(sample_sheet)"
   ]
  },
  {
   "cell_type": "code",
   "execution_count": 43,
   "metadata": {
    "collapsed": true
   },
   "outputs": [],
   "source": [
    "def open_sequencing_manifest(manifest_fp, lanes='False', sheetname='Sample Information', skiprows=18):\n",
    "    \"\"\"Read in an IGM sequencing manifest and return a pandas DF with primary data table\"\"\"\n",
    "    sample_sheet = pd.read_excel(manifest_fp, sheetname=sheetname, skiprows=skiprows, header=1)\n",
    "    \n",
    "    # Remove trailing whitespace from column names and homogenize case\n",
    "    sample_sheet.columns = [x.strip().lower() for x in sample_sheet.columns]\n",
    "    \n",
    "    if lanes:\n",
    "        sample_sheet = sample_sheet.loc[sample_sheet['lane'].isin(lanes)]\n",
    "        \n",
    "    return(sample_sheet)"
   ]
  },
  {
   "cell_type": "code",
   "execution_count": 44,
   "metadata": {
    "collapsed": true
   },
   "outputs": [],
   "source": [
    "def get_read(sample, seq_dir, read):\n",
    "    \"\"\"Function to pull a given read based on sample name from the reads directory\"\"\"\n",
    "    reads = glob.glob(os.path.join(seq_dir, \"{0}_*_{1}_*.fastq.gz\".format(sample, read)))\n",
    "    if len(reads) == 1:\n",
    "        return(reads[0])\n",
    "    elif len(reads) > 1:\n",
    "        raise ValueError('Too many reads found for {0} in {1}:\\n'\n",
    "                         'read_str: {2}'.format(sample, seq_dir, reads))\n",
    "    elif len(reads) < 1:\n",
    "        raise ValueError('Too few reads found for {0} in {1}:\\n'\n",
    "                         'read_str: {1}\\n'.format(sample, seq_dir, reads))   "
   ]
  },
  {
   "cell_type": "code",
   "execution_count": 45,
   "metadata": {
    "collapsed": true
   },
   "outputs": [],
   "source": [
    "def make_sample_dict_pe(sample_sheet, seq_dir,\n",
    "                        forward = 'R1',\n",
    "                        reverse = 'R2',\n",
    "                        adaptor = '$CONDA_ENV_PATH/share/trimmomatic-*/adapters/TruSeq3-PE-2.fa',\n",
    "                        phred = 'phred33',\n",
    "                        sample_header = 'Sample_Prefix',\n",
    "                        sample_name = 'Sample',\n",
    "                        tolerate_losses = True):\n",
    "    \n",
    "    samples_pe = {'samples_pe': {}}\n",
    "    for x in sample_sheet.index:\n",
    "        try:\n",
    "            samples_pe['samples_pe'][sample_sheet.loc[x, sample_name]] = {\n",
    "               'forward': get_read(sample_sheet.loc[x, sample_header], seq_dir, forward),\n",
    "               'reverse': get_read(sample_sheet.loc[x, sample_header], seq_dir, reverse),\n",
    "               'adaptor': adaptor,\n",
    "               'phred': phred\n",
    "            }\n",
    "        except ValueError:\n",
    "            if tolerate_losses:\n",
    "                print('No sequences found for %s' % sample_sheet.loc[x, sample_name])\n",
    "            else:\n",
    "                raise ValueError\n",
    "    \n",
    "    return(samples_pe)"
   ]
  },
  {
   "cell_type": "code",
   "execution_count": 46,
   "metadata": {
    "collapsed": true
   },
   "outputs": [],
   "source": [
    "def make_sample_dict_se(sample_sheet, seq_dir,\n",
    "                        forward = 'R1',\n",
    "                        adaptor = '$CONDA_ENV_PATH/share/trimmomatic-*/adapters/TruSeq3-PE-2.fa',\n",
    "                        phred = 'phred33',\n",
    "                        sample_header = 'Sample_Prefix',\n",
    "                        sample_name = 'Sample',\n",
    "                        tolerate_losses = True):\n",
    "    \n",
    "    samples_pe = {'samples_pe': {}}\n",
    "    for x in sample_sheet.index:\n",
    "        try:\n",
    "            samples_pe['samples_pe'][sample_sheet.loc[x, sample_name]] = {\n",
    "               'forward': get_read(sample_sheet.loc[x, sample_header], seq_dir, forward),\n",
    "               'adaptor': adaptor,\n",
    "               'phred': phred\n",
    "            }\n",
    "        except ValueError:\n",
    "            if tolerate_losses:\n",
    "                print('No sequences found for %s' % sample_sheet.loc[x, sample_name])\n",
    "            else:\n",
    "                raise ValueError\n",
    "    \n",
    "    return(samples_pe)"
   ]
  },
  {
   "cell_type": "code",
   "execution_count": 47,
   "metadata": {
    "collapsed": false
   },
   "outputs": [],
   "source": [
    "def format_yaml_pe(RUN, samples_pe,\n",
    "                   TMP_DIR_ROOT = '/localscratch',\n",
    "                   host_db = '/home/jgsanders/ref_data/genomes/Homo_sapiens_Bowtie2_v0.1/Homo_sapiens',\n",
    "                   envs = {'KNEAD_ENV': 'source activate kneaddata',\n",
    "                           'BOWTIE_ENV': 'source activate kneaddata',\n",
    "                           'QC_ENV': 'source activate kneaddata',\n",
    "                           'TRIM_ENV': 'source activate kneaddata',\n",
    "                           'HUMANN2_ENV': 'source activate kneaddata',\n",
    "                           'METAPHLAN_ENV': 'source activate kneaddata'},\n",
    "                   software = {'gzip': 'gzip',\n",
    "                               'trimmomatic': 'trimmomatic'},\n",
    "                   params = {'TRIMMOMATIC': {'QUAL': 'LEADING:20 TRAILING:20 AVGQUAL:30 MINLEN:32 TOPHRED33',\n",
    "                                              'ILLUMINACLIP': '2:30:10'},\n",
    "                             'HUMANN2': {'METAPHLAN_DIR': '/home/jgsanders/share/metaphlan2',\n",
    "                                         'HUMANN2_NT_DB': '/home/jgsanders/ref_data/humann2/chocophlan',\n",
    "                                         'HUMANN2_AA_DB': '/home/jgsanders/ref_data/humann2/uniref',\n",
    "                                         'NORMS': ['cpm','relab'],\n",
    "                                         'OTHER': ''}},\n",
    "                   default_flow_style = False):\n",
    "    \n",
    "    config_str = ''\n",
    "\n",
    "    config_str += yaml.dump({'TMP_DIR_ROOT': TMP_DIR_ROOT}, default_flow_style = default_flow_style)\n",
    "\n",
    "    config_str += yaml.dump({'RUN': RUN}, default_flow_style = default_flow_style)\n",
    "    \n",
    "    config_str += yaml.dump({'HOST_DB': host_db}, default_flow_style = default_flow_style)\n",
    "    \n",
    "    config_str += yaml.dump({'ENVS': envs}, default_flow_style = default_flow_style)            \n",
    "    \n",
    "    config_str += yaml.dump({'SOFTWARE': software}, default_flow_style = default_flow_style)\n",
    "\n",
    "    config_str += yaml.dump({'PARAMS': params}, default_flow_style = default_flow_style)\n",
    "\n",
    "    config_str += yaml.dump(samples_pe, default_flow_style = default_flow_style)\n",
    "    \n",
    "    return(config_str)"
   ]
  },
  {
   "cell_type": "code",
   "execution_count": 48,
   "metadata": {
    "collapsed": false
   },
   "outputs": [],
   "source": [
    "def format_yaml_se(RUN, samples_se,\n",
    "                   TMP_DIR_ROOT = '/localscratch',\n",
    "                   host_db = '/home/jgsanders/ref_data/genomes/Homo_sapiens_Bowtie2_v0.1/Homo_sapiens',\n",
    "                   envs = {'KNEAD_ENV': 'source activate kneaddata',\n",
    "                           'BOWTIE_ENV': 'source activate kneaddata',\n",
    "                           'QC_ENV': 'source activate kneaddata',\n",
    "                           'TRIM_ENV': 'source activate kneaddata',\n",
    "                           'HUMANN2_ENV': 'source activate kneaddata',\n",
    "                           'METAPHLAN_ENV': 'source activate kneaddata'},\n",
    "                   software = {'gzip': 'gzip',\n",
    "                               'trimmomatic': 'trimmomatic'},\n",
    "                   params = {'TRIMMOMATIC': {'QUAL': 'LEADING:20 TRAILING:20 AVGQUAL:30 MINLEN:32 TOPHRED33',\n",
    "                                              'ILLUMINACLIP': '2:30:10'},\n",
    "                             'HUMANN2': {'METAPHLAN_DIR': '/home/jgsanders/share/metaphlan2',\n",
    "                                         'HUMANN2_NT_DB': '/home/jgsanders/ref_data/humann2/chocophlan',\n",
    "                                         'HUMANN2_AA_DB': '/home/jgsanders/ref_data/humann2/uniref',\n",
    "                                         'NORMS': ['cpm','relab'],\n",
    "                                         'OTHER': ''}},\n",
    "                   default_flow_style = False):\n",
    "                \n",
    "    config_str = ''\n",
    "\n",
    "    config_str += yaml.dump({'TMP_DIR_ROOT': TMP_DIR_ROOT}, default_flow_style = default_flow_style)\n",
    "\n",
    "    config_str += yaml.dump({'RUN': RUN}, default_flow_style = default_flow_style)\n",
    "    \n",
    "    config_str += yaml.dump({'HOST_DB': host_db}, default_flow_style = default_flow_style)\n",
    "    \n",
    "    config_str += yaml.dump({'ENVS': envs}, default_flow_style = default_flow_style)            \n",
    "    \n",
    "    config_str += yaml.dump({'SOFTWARE': software}, default_flow_style = default_flow_style)\n",
    "\n",
    "    config_str += yaml.dump({'PARAMS': params}, default_flow_style = default_flow_style)\n",
    "\n",
    "    config_str += yaml.dump(samples_se, default_flow_style = default_flow_style)\n",
    "    \n",
    "    return(config_str)"
   ]
  },
  {
   "cell_type": "markdown",
   "metadata": {},
   "source": [
    "# Read in the sample data \n",
    "\n",
    "We ultimately need a Pandas DataFrame that has the following two columns: `Sample` and `Sample Prefix`. `Sample` has the name you'd like to call the sample on the filesystem; a good candidate would be the sample's name in the metadata mapping file you'll use later. `Sample Prefix` is what the script will use to locate the Fastq file in the sequencing directory. This should match exactly the beginning of the Fastq filename for that sample. \n",
    "\n",
    "Note that for the time being, you will want to make sure that you have a unique 1:1 relationship between `Sample` and `Sample Prefix`: if for example you sequence the same sample multiple times on a single run (for example on different lanes, or using different library prep parameters), we don't currently handle that automatically.\n",
    "\n",
    "In the latter case, one option would be to prepare multiple config.yaml files using this notebook for each of the condition sets you use, with different `Run` names. Presuming you have four original samples (say `sample1`, `sample2`...) and each were sequenced with two preps on the same lane (giving file names like `sample1_prep1_L001_R1.fastq.gz`), your final `sample_sheet` dataframe for the first run would look like this:"
   ]
  },
  {
   "cell_type": "code",
   "execution_count": 49,
   "metadata": {
    "collapsed": false
   },
   "outputs": [
    {
     "data": {
      "text/html": [
       "<div>\n",
       "<table border=\"1\" class=\"dataframe\">\n",
       "  <thead>\n",
       "    <tr style=\"text-align: right;\">\n",
       "      <th></th>\n",
       "      <th>Sample</th>\n",
       "      <th>Sample Prefix</th>\n",
       "    </tr>\n",
       "  </thead>\n",
       "  <tbody>\n",
       "    <tr>\n",
       "      <th>0</th>\n",
       "      <td>sample1</td>\n",
       "      <td>sample1_prep1</td>\n",
       "    </tr>\n",
       "    <tr>\n",
       "      <th>1</th>\n",
       "      <td>sample2</td>\n",
       "      <td>sample2_prep1</td>\n",
       "    </tr>\n",
       "    <tr>\n",
       "      <th>2</th>\n",
       "      <td>sample2</td>\n",
       "      <td>sample2_prep1</td>\n",
       "    </tr>\n",
       "    <tr>\n",
       "      <th>3</th>\n",
       "      <td>sample4</td>\n",
       "      <td>sample4_prep1</td>\n",
       "    </tr>\n",
       "  </tbody>\n",
       "</table>\n",
       "</div>"
      ],
      "text/plain": [
       "    Sample  Sample Prefix\n",
       "0  sample1  sample1_prep1\n",
       "1  sample2  sample2_prep1\n",
       "2  sample2  sample2_prep1\n",
       "3  sample4  sample4_prep1"
      ]
     },
     "execution_count": 49,
     "metadata": {},
     "output_type": "execute_result"
    }
   ],
   "source": [
    "run1 = pd.DataFrame({'Sample': ['sample1', 'sample2', 'sample2', 'sample4'],\n",
    "                     'Sample Prefix': ['sample1_prep1', 'sample2_prep1', 'sample2_prep1', 'sample4_prep1']})\n",
    "run1"
   ]
  },
  {
   "cell_type": "markdown",
   "metadata": {},
   "source": [
    "You would then make a second `sample_sheet` DataFrame for the prep2 sequence files:"
   ]
  },
  {
   "cell_type": "code",
   "execution_count": 50,
   "metadata": {
    "collapsed": false
   },
   "outputs": [
    {
     "data": {
      "text/html": [
       "<div>\n",
       "<table border=\"1\" class=\"dataframe\">\n",
       "  <thead>\n",
       "    <tr style=\"text-align: right;\">\n",
       "      <th></th>\n",
       "      <th>Sample</th>\n",
       "      <th>Sample Prefix</th>\n",
       "    </tr>\n",
       "  </thead>\n",
       "  <tbody>\n",
       "    <tr>\n",
       "      <th>0</th>\n",
       "      <td>sample1</td>\n",
       "      <td>sample1_prep2</td>\n",
       "    </tr>\n",
       "    <tr>\n",
       "      <th>1</th>\n",
       "      <td>sample2</td>\n",
       "      <td>sample2_prep2</td>\n",
       "    </tr>\n",
       "    <tr>\n",
       "      <th>2</th>\n",
       "      <td>sample2</td>\n",
       "      <td>sample2_prep2</td>\n",
       "    </tr>\n",
       "    <tr>\n",
       "      <th>3</th>\n",
       "      <td>sample4</td>\n",
       "      <td>sample4_prep2</td>\n",
       "    </tr>\n",
       "  </tbody>\n",
       "</table>\n",
       "</div>"
      ],
      "text/plain": [
       "    Sample  Sample Prefix\n",
       "0  sample1  sample1_prep2\n",
       "1  sample2  sample2_prep2\n",
       "2  sample2  sample2_prep2\n",
       "3  sample4  sample4_prep2"
      ]
     },
     "execution_count": 50,
     "metadata": {},
     "output_type": "execute_result"
    }
   ],
   "source": [
    "run2 = pd.DataFrame({'Sample': ['sample1', 'sample2', 'sample2', 'sample4'],\n",
    "                     'Sample Prefix': ['sample1_prep2', 'sample2_prep2', 'sample2_prep2', 'sample4_prep2']})\n",
    "run2"
   ]
  },
  {
   "cell_type": "markdown",
   "metadata": {},
   "source": [
    "You would make a different config.yaml file for each of these runs, and the resulting data directory after running snakemake would have four sample directories (`sample1` through `sample4`), each with two run directories (`Run1` and `Run2`). \n",
    "\n",
    "I have provided two methods, `open_sequencing_manifest` and `open_sample_sheet`, for simplifying construction of the `sample_sheet` dataframe from the Excel files provided by IGM. The 'sequence manifest' is a two-sheet Excel workbook, with sample information on the second sheet. The 'sample sheet' is a one-sheet workbook. In both cases, the precise line number where the sample information starts is sometimes variable. Load with the appropriate method, and adjust the `skiprows` number until you have header information properly loaded as the column names of the displayed `sample_sheet` workbook.\n",
    "\n",
    "Either way, you want to end up with a column called `sample name`. "
   ]
  },
  {
   "cell_type": "code",
   "execution_count": 51,
   "metadata": {
    "collapsed": false
   },
   "outputs": [
    {
     "data": {
      "text/html": [
       "<div>\n",
       "<table border=\"1\" class=\"dataframe\">\n",
       "  <thead>\n",
       "    <tr style=\"text-align: right;\">\n",
       "      <th></th>\n",
       "      <th>sample name</th>\n",
       "      <th>sample code</th>\n",
       "      <th>library size (bp)</th>\n",
       "      <th>library prep method</th>\n",
       "      <th>index 1 (name)</th>\n",
       "      <th>index 1 (sequence)</th>\n",
       "      <th>index 2 (name)</th>\n",
       "      <th>index 2 (sequence)</th>\n",
       "      <th>conc. (nm)</th>\n",
       "      <th>volume (μl)</th>\n",
       "      <th>quantification method</th>\n",
       "      <th>lane</th>\n",
       "    </tr>\n",
       "  </thead>\n",
       "  <tbody>\n",
       "    <tr>\n",
       "      <th>0</th>\n",
       "      <td>sample1</td>\n",
       "      <td>1</td>\n",
       "      <td>400-600</td>\n",
       "      <td>KapaHyperPlus</td>\n",
       "      <td>D001</td>\n",
       "      <td>ATCTAGCCGGCC</td>\n",
       "      <td>NaN</td>\n",
       "      <td>NaN</td>\n",
       "      <td>NaN</td>\n",
       "      <td>NaN</td>\n",
       "      <td>Pico</td>\n",
       "      <td>1</td>\n",
       "    </tr>\n",
       "    <tr>\n",
       "      <th>1</th>\n",
       "      <td>sample2</td>\n",
       "      <td>2</td>\n",
       "      <td>400-600</td>\n",
       "      <td>KapaHyperPlus</td>\n",
       "      <td>D013</td>\n",
       "      <td>AAGCGTACGTCC</td>\n",
       "      <td>NaN</td>\n",
       "      <td>NaN</td>\n",
       "      <td>NaN</td>\n",
       "      <td>NaN</td>\n",
       "      <td>Pico</td>\n",
       "      <td>1</td>\n",
       "    </tr>\n",
       "  </tbody>\n",
       "</table>\n",
       "</div>"
      ],
      "text/plain": [
       "  sample name  sample code library size (bp) library prep method  \\\n",
       "0     sample1            1           400-600       KapaHyperPlus   \n",
       "1     sample2            2           400-600       KapaHyperPlus   \n",
       "\n",
       "  index 1 (name) index 1 (sequence)  index 2 (name)  index 2 (sequence)  \\\n",
       "0           D001       ATCTAGCCGGCC             NaN                 NaN   \n",
       "1           D013       AAGCGTACGTCC             NaN                 NaN   \n",
       "\n",
       "   conc. (nm)  volume (μl) quantification method  lane  \n",
       "0         NaN          NaN                  Pico     1  \n",
       "1         NaN          NaN                  Pico     1  "
      ]
     },
     "execution_count": 51,
     "metadata": {},
     "output_type": "execute_result"
    }
   ],
   "source": [
    "# this is the Excel document provided by IGM\n",
    "\n",
    "# If you only want samples from some lanes, you can provide a list of those lane numbers here\n",
    "lanes = [1]\n",
    "\n",
    "# This is the path to the folder on Barnacle where the raw reads are located\n",
    "seq_dir = 'example/reads/Run1/'\n",
    "\n",
    "# Read in the sample manifest\n",
    "sequencing_manifest_fp = 'example/reads/example_sample_manifest.xlsx'\n",
    "sample_sheet = open_sequencing_manifest(sequencing_manifest_fp, lanes=lanes, skiprows=20)\n",
    "\n",
    "sample_sheet"
   ]
  },
  {
   "cell_type": "code",
   "execution_count": 52,
   "metadata": {
    "collapsed": false
   },
   "outputs": [
    {
     "data": {
      "text/html": [
       "<div>\n",
       "<table border=\"1\" class=\"dataframe\">\n",
       "  <thead>\n",
       "    <tr style=\"text-align: right;\">\n",
       "      <th></th>\n",
       "      <th>lane</th>\n",
       "      <th>sample_id</th>\n",
       "      <th>sample_name</th>\n",
       "      <th>sample_plate</th>\n",
       "      <th>sample_well</th>\n",
       "      <th>i7_index_id</th>\n",
       "      <th>index</th>\n",
       "      <th>sample_project</th>\n",
       "      <th>description</th>\n",
       "      <th>sample name</th>\n",
       "    </tr>\n",
       "  </thead>\n",
       "  <tbody>\n",
       "    <tr>\n",
       "      <th>0</th>\n",
       "      <td>1</td>\n",
       "      <td>sample1</td>\n",
       "      <td>NaN</td>\n",
       "      <td>NaN</td>\n",
       "      <td>NaN</td>\n",
       "      <td>NaN</td>\n",
       "      <td>NaN</td>\n",
       "      <td>NaN</td>\n",
       "      <td>NaN</td>\n",
       "      <td>sample1</td>\n",
       "    </tr>\n",
       "    <tr>\n",
       "      <th>1</th>\n",
       "      <td>1</td>\n",
       "      <td>sample2</td>\n",
       "      <td>NaN</td>\n",
       "      <td>NaN</td>\n",
       "      <td>NaN</td>\n",
       "      <td>NaN</td>\n",
       "      <td>NaN</td>\n",
       "      <td>NaN</td>\n",
       "      <td>NaN</td>\n",
       "      <td>sample2</td>\n",
       "    </tr>\n",
       "  </tbody>\n",
       "</table>\n",
       "</div>"
      ],
      "text/plain": [
       "   lane sample_id  sample_name  sample_plate  sample_well  i7_index_id  index  \\\n",
       "0     1   sample1          NaN           NaN          NaN          NaN    NaN   \n",
       "1     1   sample2          NaN           NaN          NaN          NaN    NaN   \n",
       "\n",
       "   sample_project  description sample name  \n",
       "0             NaN          NaN     sample1  \n",
       "1             NaN          NaN     sample2  "
      ]
     },
     "execution_count": 52,
     "metadata": {},
     "output_type": "execute_result"
    }
   ],
   "source": [
    "# Alternatively, read in the sample sheet\n",
    "sequencing_sample_sheet_fp = 'example/reads/example_sample_sheet.xls'\n",
    "sample_sheet = open_sample_sheet(sequencing_sample_sheet_fp, lanes=lanes, skiprows=18)\n",
    "\n",
    "sample_sheet"
   ]
  },
  {
   "cell_type": "markdown",
   "metadata": {},
   "source": [
    "Sometimes there are inconsistencies in the sample naming between the ultimate Fastq filenames and the sample names given in the sample sheet -- for example, periods or spaces are replaced by underscores. \n",
    "\n",
    "Here, we'll use the `sample name` column to create the `Sample` and `Sample Prefix` columns we need for the next steps. At this stage, we can use the Pandas `replace` functionality to make these kinds of substitutions as needed. Also note that any numerical sample names need to be stored as string types."
   ]
  },
  {
   "cell_type": "code",
   "execution_count": 53,
   "metadata": {
    "collapsed": false
   },
   "outputs": [
    {
     "data": {
      "text/html": [
       "<div>\n",
       "<table border=\"1\" class=\"dataframe\">\n",
       "  <thead>\n",
       "    <tr style=\"text-align: right;\">\n",
       "      <th></th>\n",
       "      <th>lane</th>\n",
       "      <th>sample_id</th>\n",
       "      <th>sample_name</th>\n",
       "      <th>sample_plate</th>\n",
       "      <th>sample_well</th>\n",
       "      <th>i7_index_id</th>\n",
       "      <th>index</th>\n",
       "      <th>sample_project</th>\n",
       "      <th>description</th>\n",
       "      <th>sample name</th>\n",
       "      <th>Sample Prefix</th>\n",
       "      <th>Sample</th>\n",
       "    </tr>\n",
       "  </thead>\n",
       "  <tbody>\n",
       "    <tr>\n",
       "      <th>0</th>\n",
       "      <td>1</td>\n",
       "      <td>sample1</td>\n",
       "      <td>NaN</td>\n",
       "      <td>NaN</td>\n",
       "      <td>NaN</td>\n",
       "      <td>NaN</td>\n",
       "      <td>NaN</td>\n",
       "      <td>NaN</td>\n",
       "      <td>NaN</td>\n",
       "      <td>sample1</td>\n",
       "      <td>sample1</td>\n",
       "      <td>sample1</td>\n",
       "    </tr>\n",
       "    <tr>\n",
       "      <th>1</th>\n",
       "      <td>1</td>\n",
       "      <td>sample2</td>\n",
       "      <td>NaN</td>\n",
       "      <td>NaN</td>\n",
       "      <td>NaN</td>\n",
       "      <td>NaN</td>\n",
       "      <td>NaN</td>\n",
       "      <td>NaN</td>\n",
       "      <td>NaN</td>\n",
       "      <td>sample2</td>\n",
       "      <td>sample2</td>\n",
       "      <td>sample2</td>\n",
       "    </tr>\n",
       "  </tbody>\n",
       "</table>\n",
       "</div>"
      ],
      "text/plain": [
       "   lane sample_id  sample_name  sample_plate  sample_well  i7_index_id  index  \\\n",
       "0     1   sample1          NaN           NaN          NaN          NaN    NaN   \n",
       "1     1   sample2          NaN           NaN          NaN          NaN    NaN   \n",
       "\n",
       "   sample_project  description sample name Sample Prefix   Sample  \n",
       "0             NaN          NaN     sample1       sample1  sample1  \n",
       "1             NaN          NaN     sample2       sample2  sample2  "
      ]
     },
     "execution_count": 53,
     "metadata": {},
     "output_type": "execute_result"
    }
   ],
   "source": [
    "# These columns can be modified with regexes to fix sample names or add common sample prefixes if necessary\n",
    "# sample_sheet['Sample_Prefix'] = sample_sheet['Sample Name'].replace('\\.','_', regex=True).astype(str)\n",
    "# sample_sheet['Sample'] = sample_sheet['Sample Name'].replace('\\.','_', regex=True).astype(str)\n",
    "sample_sheet['Sample Prefix'] = sample_sheet['sample name'].astype(str)\n",
    "sample_sheet['Sample'] = sample_sheet['sample name'].astype(str)\n",
    "\n",
    "sample_sheet"
   ]
  },
  {
   "cell_type": "markdown",
   "metadata": {},
   "source": [
    "Make samples dictionary\n",
    "------\n",
    "\n",
    "This links the sample name to the original location of the forward (and reverse) reads. You'll want to make sure to use a path to the correct adapter file for your library prep. (The ones in my home directory should be readable and ok to use on Barnacle.)\n",
    "\n",
    "To instead use single ended reads, call `samples_se()` instead."
   ]
  },
  {
   "cell_type": "code",
   "execution_count": 54,
   "metadata": {
    "collapsed": false
   },
   "outputs": [
    {
     "data": {
      "text/plain": [
       "{'samples_pe': {'sample1': {'adaptor': '/home/jgsanders/git_sw/git_bin/Trimmomatic-0.36/adapters/TruSeq3-PE-2.fa',\n",
       "   'forward': 'example/reads/Run1/sample1_S312_R1_L001.fastq.gz',\n",
       "   'phred': 'phred33',\n",
       "   'reverse': 'example/reads/Run1/sample1_S312_R2_L001.fastq.gz'},\n",
       "  'sample2': {'adaptor': '/home/jgsanders/git_sw/git_bin/Trimmomatic-0.36/adapters/TruSeq3-PE-2.fa',\n",
       "   'forward': 'example/reads/Run1/sample2_S521_R1_L001.fastq.gz',\n",
       "   'phred': 'phred33',\n",
       "   'reverse': 'example/reads/Run1/sample2_S521_R2_L001.fastq.gz'}}}"
      ]
     },
     "execution_count": 54,
     "metadata": {},
     "output_type": "execute_result"
    }
   ],
   "source": [
    "# Nextera adapter path: '/home/jgsanders/git_sw/git_bin/Trimmomatic-0.36/adapters/NexteraPE-PE.fa'\n",
    "\n",
    "samples_pe = make_sample_dict_pe(sample_sheet, seq_dir,\n",
    "                        adaptor = '/home/jgsanders/git_sw/git_bin/Trimmomatic-0.36/adapters/TruSeq3-PE-2.fa',\n",
    "                        forward = 'R1',\n",
    "                        reverse = 'R2',\n",
    "                        sample_header = 'Sample Prefix',\n",
    "                        sample_name = 'Sample')\n",
    "\n",
    "samples_pe"
   ]
  },
  {
   "cell_type": "markdown",
   "metadata": {
    "collapsed": false
   },
   "source": [
    "Format YAML file\n",
    "================\n",
    "\n",
    "Make the actual config file using the methods provided.\n",
    "\n",
    "You will want to modify the `RUN` variable with a good name for your particular run.\n",
    "\n",
    "\n",
    "Important parameter information\n",
    "-------------------------------\n",
    "You may also want to pass optional parameters to modify execution. The optional parameters and their defaults are:\n",
    "\n",
    "```\n",
    "TMP_DIR_ROOT = '/localscratch',\n",
    "host_db = '/home/jgsanders/ref_data/genomes/Homo_sapiens_Bowtie2_v0.1/Homo_sapiens',\n",
    "envs = {'KNEAD_ENV': 'source activate kneaddata',\n",
    "       'BOWTIE_ENV': 'source activate kneaddata',\n",
    "       'QC_ENV': 'source activate kneaddata',\n",
    "       'TRIM_ENV': 'source activate kneaddata',\n",
    "       'HUMANN2_ENV': 'source activate kneaddata',\n",
    "       'METAPHLAN_ENV': 'source activate kneaddata'},\n",
    "software = {'gzip': 'gzip',\n",
    "           'trimmomatic': 'trimmomatic'},\n",
    "params = {'TRIMMOMATIC': {'QUAL': 'LEADING:20 TRAILING:20 AVGQUAL:30 MINLEN:32 TOPHRED33',\n",
    "                          'ILLUMINACLIP': '2:30:10'},\n",
    "         'HUMANN2': {'METAPHLAN_DIR': '/home/jgsanders/share/metaphlan2',\n",
    "                     'HUMANN2_NT_DB': '/home/jgsanders/ref_data/humann2/chocophlan',\n",
    "                     'HUMANN2_AA_DB': '/home/jgsanders/ref_data/humann2/uniref',\n",
    "                     'NORMS': ['cpm','relab'],\n",
    "                     'OTHER': ''}},\n",
    "```\n",
    "\n",
    "These are provided as separate keyword argument dicts or strings to the `format_yaml` function.\n",
    "\n",
    "\n",
    "**In particular, make sure you provide:**\n",
    "1. the correct conda environment for the `envs` variables\n",
    "2. the correct `host_db` Bowtie filename base (this is the path up to the extensions, not an actual filename; for example, in the default, the directory `/home/jgsanders/ref_data/genomes/Homo_sapiens_Bowtie2_v0.1/` has files in it like `Homo_sapiens.1.bt2` and `Homo_sapiens.rev.1.bt2`)\n",
    "3. a valid Trimmomatic executable filepath. If you have Trimmomatic installed in your `TRIM_ENV` environment, you can just use `trimmomatic`.\n",
    "\n",
    "Other parameters notes:\n",
    "- For very large sequence files, you can save significant time by installing [pigz](http://www.zlib.net/pigz/) and passing that as the gzip executable. \n",
    "- The HUMAnN2 Uniref database provided as default from my Home directory on Barnacle is the EC-filtered UniRef90 database. For less well-characterized metagenomes you may want to use UniRef50, at `/home/jgsanders/ref_data/humann2/uniref50`. \n",
    "- The `NORMS` parameter is a list of normalization types to pass to HUMAnN2. I typically only use CPM, but by default we will generate both. \n",
    "- Any additional HUMAnN2 command-line parameters can be passed via 'OTHER'. "
   ]
  },
  {
   "cell_type": "code",
   "execution_count": 55,
   "metadata": {
    "collapsed": false
   },
   "outputs": [],
   "source": [
    "RUN = 'Run1'\n",
    "config_str = format_yaml_pe(RUN, samples_pe, host_db = '/home/jgsanders/ref_data/genomes/mouse/mouse')\n",
    "with open('config_%s.yaml' % RUN, 'w') as f:\n",
    "    f.write(config_str)"
   ]
  },
  {
   "cell_type": "code",
   "execution_count": 56,
   "metadata": {
    "collapsed": false
   },
   "outputs": [
    {
     "name": "stdout",
     "output_type": "stream",
     "text": [
      "TMP_DIR_ROOT: /localscratch\n",
      "RUN: Run1\n",
      "HOST_DB: /home/jgsanders/ref_data/genomes/mouse/mouse\n",
      "ENVS:\n",
      "  BOWTIE_ENV: source activate kneaddata\n",
      "  HUMANN2_ENV: source activate kneaddata\n",
      "  KNEAD_ENV: source activate kneaddata\n",
      "  METAPHLAN_ENV: source activate kneaddata\n",
      "  QC_ENV: source activate kneaddata\n",
      "  TRIM_ENV: source activate kneaddata\n",
      "SOFTWARE:\n",
      "  gzip: gzip\n",
      "  trimmomatic: trimmomatic\n",
      "PARAMS:\n",
      "  HUMANN2:\n",
      "    HUMANN2_AA_DB: /home/jgsanders/ref_data/humann2/uniref\n",
      "    HUMANN2_NT_DB: /home/jgsanders/ref_data/humann2/chocophlan\n",
      "    METAPHLAN_DIR: /home/jgsanders/share/metaphlan2\n",
      "    NORMS:\n",
      "    - cpm\n",
      "    - relab\n",
      "    OTHER: ''\n",
      "  TRIMMOMATIC:\n",
      "    ILLUMINACLIP: '2:30:10'\n",
      "    QUAL: LEADING:20 TRAILING:20 AVGQUAL:30 MINLEN:32 TOPHRED33\n",
      "samples_pe:\n",
      "  sample1:\n",
      "    adaptor: /home/jgsanders/git_sw/git_bin/Trimmomatic-0.36/adapters/TruSeq3-PE-2.fa\n",
      "    forward: example/reads/Run1/sample1_S312_R1_L001.fastq.gz\n",
      "    phred: phred33\n",
      "    reverse: example/reads/Run1/sample1_S312_R2_L001.fastq.gz\n",
      "  sample2:\n",
      "    adaptor: /home/jgsanders/git_sw/git_bin/Trimmomatic-0.36/adapters/TruSeq3-PE-2.fa\n",
      "    forward: example/reads/Run1/sample2_S521_R1_L001.fastq.gz\n",
      "    phred: phred33\n",
      "    reverse: example/reads/Run1/sample2_S521_R2_L001.fastq.gz\n",
      "\n"
     ]
    }
   ],
   "source": [
    "print(config_str)"
   ]
  },
  {
   "cell_type": "code",
   "execution_count": null,
   "metadata": {
    "collapsed": true
   },
   "outputs": [],
   "source": []
  },
  {
   "cell_type": "code",
   "execution_count": null,
   "metadata": {
    "collapsed": true
   },
   "outputs": [],
   "source": []
  },
  {
   "cell_type": "code",
   "execution_count": null,
   "metadata": {
    "collapsed": true
   },
   "outputs": [],
   "source": []
  }
 ],
 "metadata": {
  "anaconda-cloud": {},
  "kernelspec": {
   "display_name": "Python [default]",
   "language": "python",
   "name": "python3"
  },
  "language_info": {
   "codemirror_mode": {
    "name": "ipython",
    "version": 3
   },
   "file_extension": ".py",
   "mimetype": "text/x-python",
   "name": "python",
   "nbconvert_exporter": "python",
   "pygments_lexer": "ipython3",
   "version": "3.5.2"
  }
 },
 "nbformat": 4,
 "nbformat_minor": 0
}
