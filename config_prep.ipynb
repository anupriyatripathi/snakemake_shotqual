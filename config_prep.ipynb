{
 "cells": [
  {
   "cell_type": "code",
   "execution_count": 1,
   "metadata": {
    "collapsed": false
   },
   "outputs": [],
   "source": [
    "import glob\n",
    "import os\n",
    "import yaml\n",
    "import pandas as pd\n"
   ]
  },
  {
   "cell_type": "code",
   "execution_count": 2,
   "metadata": {
    "collapsed": true
   },
   "outputs": [],
   "source": [
    "def open_sample_sheet(sample_sheet_fp, lanes=False, skiprows=18):\n",
    "    \"\"\"Read in an IGM sample sheet and return a pandas DF with primary data table\"\"\"\n",
    "    sample_sheet = pd.read_excel(sample_sheet_fp, skiprows = skiprows, header=1)\n",
    "\n",
    "    if lanes:\n",
    "        sample_sheet = sample_sheet.loc[sample_sheet['Lane'].isin(lanes)]\n",
    "\n",
    "    return(sample_sheet)"
   ]
  },
  {
   "cell_type": "code",
   "execution_count": 3,
   "metadata": {
    "collapsed": true
   },
   "outputs": [],
   "source": [
    "def open_sequencing_manifest(manifest_fp, lanes='False', sheetname='Sample Information', skiprows=18):\n",
    "    \"\"\"Read in an IGM sequencing manifest and return a pandas DF with primary data table\"\"\"\n",
    "    sample_sheet = pd.read_excel(manifest_fp, sheetname=sheetname, skiprows=skiprows, header=1)\n",
    "    \n",
    "    if lanes:\n",
    "        sample_sheet = sample_sheet.loc[sample_sheet['lane'].isin(lanes)]\n",
    "        \n",
    "    return(sample_sheet)"
   ]
  },
  {
   "cell_type": "code",
   "execution_count": 4,
   "metadata": {
    "collapsed": true
   },
   "outputs": [],
   "source": [
    "def get_read(sample, seq_dir, read):\n",
    "    \"\"\"Function to pull a given read based on sample name from the reads directory\"\"\"\n",
    "    reads = glob.glob(os.path.join(seq_dir, \"{0}_*_{1}_*.fastq.gz\".format(sample, read)))\n",
    "    if len(reads) == 1:\n",
    "        return(reads[0])\n",
    "    elif len(reads) > 1:\n",
    "        raise ValueError('Too many reads found for {0} in {1}:\\n'\n",
    "                         'read_str: {2}'.format(sample, seq_dir, reads))\n",
    "    elif len(reads) < 1:\n",
    "        raise ValueError('Too few reads found for {0} in {1}:\\n'\n",
    "                         'read_str: {1}\\n'.format(sample, seq_dir, reads))   "
   ]
  },
  {
   "cell_type": "code",
   "execution_count": 5,
   "metadata": {
    "collapsed": true
   },
   "outputs": [],
   "source": [
    "def make_sample_dict_pe(sample_sheet, seq_dir,\n",
    "                        forward = 'R1',\n",
    "                        reverse = 'R2',\n",
    "                        adaptor = '$CONDA_ENV_PATH/share/trimmomatic-*/adapters/TruSeq3-PE-2.fa',\n",
    "                        phred = 'phred33',\n",
    "                        sample_header = 'Sample_Prefix',\n",
    "                        sample_name = 'Sample',\n",
    "                        tolerate_losses = True):\n",
    "    \n",
    "    samples_pe = {'samples_pe': {}}\n",
    "    for x in sample_sheet.index:\n",
    "        try:\n",
    "            samples_pe['samples_pe'][sample_sheet.loc[x, sample_name]] = {\n",
    "               'forward': get_read(sample_sheet.loc[x, sample_header], seq_dir, forward),\n",
    "               'reverse': get_read(sample_sheet.loc[x, sample_header], seq_dir, reverse),\n",
    "               'adaptor': adaptor,\n",
    "               'phred': phred\n",
    "            }\n",
    "        except ValueError:\n",
    "            if tolerate_losses:\n",
    "                print('No sequences found for %s' % sample_sheet.loc[x, sample_name])\n",
    "            else:\n",
    "                raise ValueError\n",
    "    \n",
    "    return(samples_pe)"
   ]
  },
  {
   "cell_type": "code",
   "execution_count": 6,
   "metadata": {
    "collapsed": true
   },
   "outputs": [],
   "source": [
    "def make_sample_dict_se(sample_sheet, seq_dir,\n",
    "                        forward = 'R1',\n",
    "                        adaptor = '$CONDA_ENV_PATH/share/trimmomatic-*/adapters/TruSeq3-PE-2.fa',\n",
    "                        phred = 'phred33',\n",
    "                        sample_header = 'Sample_Prefix',\n",
    "                        sample_name = 'Sample',\n",
    "                        tolerate_losses = True):\n",
    "    \n",
    "    samples_pe = {'samples_pe': {}}\n",
    "    for x in sample_sheet.index:\n",
    "        try:\n",
    "            samples_pe['samples_pe'][sample_sheet.loc[x, sample_name]] = {\n",
    "               'forward': get_read(sample_sheet.loc[x, sample_header], seq_dir, forward),\n",
    "               'adaptor': adaptor,\n",
    "               'phred': phred\n",
    "            }\n",
    "        except ValueError:\n",
    "            if tolerate_losses:\n",
    "                print('No sequences found for %s' % sample_sheet.loc[x, sample_name])\n",
    "            else:\n",
    "                raise ValueError\n",
    "    \n",
    "    return(samples_pe)"
   ]
  },
  {
   "cell_type": "code",
   "execution_count": 54,
   "metadata": {
    "collapsed": false
   },
   "outputs": [],
   "source": [
    "def format_yaml_pe(RUN, samples_pe,\n",
    "                   TMP_DIR_ROOT = '/localscratch',\n",
    "                   host_db = '/projects/mammal_glycans/haddad_mice/dbs/mouse/mouse',\n",
    "                   envs = {'KNEAD_ENV': 'source activate kneaddata',\n",
    "                           'BOWTIE_ENV': 'source activate kneaddata',\n",
    "                           'QC_ENV': 'source activate kneaddata',\n",
    "                           'TRIM_ENV': 'source activate kneaddata',\n",
    "                           'HUMANN2_ENV': 'source activate kneaddata',\n",
    "                           'METAPHLAN_ENV': 'source activate kneaddata'},\n",
    "                   software = {'gzip': 'gzip',\n",
    "                               'trimmomatic': '$CONDA_ENV_PATH/share/trimmomatic-*/trimmomatic'},\n",
    "                   params = {'TRIMMOMATIC': {'QUAL': 'LEADING:20 TRAILING:20 AVGQUAL:30 MINLEN:32 TOPHRED33',\n",
    "                                              'ILLUMINACLIP': '2:30:10'},\n",
    "                             'HUMANN2': {'METAPHLAN_DIR': '/home/jgsanders/miniconda/envs/kneaddata/share/metaphlan2',\n",
    "                                         'HUMANN2_NT_DB': '/home/jgsanders/ref_data/humann2/chocophlan',\n",
    "                                         'HUMANN2_AA_DB': '/home/jgsanders/ref_data/humann2/uniref',\n",
    "                                         'NORMS': ['cpm','relab']}},\n",
    "                   default_flow_style = False):\n",
    "    \n",
    "    config_str = ''\n",
    "\n",
    "    config_str += yaml.dump({'TMP_DIR_ROOT': TMP_DIR_ROOT}, default_flow_style = default_flow_style)\n",
    "\n",
    "    config_str += yaml.dump({'RUN': RUN}, default_flow_style = default_flow_style)\n",
    "    \n",
    "    config_str += yaml.dump({'HOST_DB': host_db}, default_flow_style = default_flow_style)\n",
    "    \n",
    "    config_str += yaml.dump({'ENVS': envs}, default_flow_style = default_flow_style)            \n",
    "    \n",
    "    config_str += yaml.dump({'SOFTWARE': software}, default_flow_style = default_flow_style)\n",
    "\n",
    "    config_str += yaml.dump({'PARAMS': params}, default_flow_style = default_flow_style)\n",
    "\n",
    "    config_str += yaml.dump(samples_pe, default_flow_style = default_flow_style)\n",
    "    \n",
    "    return(config_str)"
   ]
  },
  {
   "cell_type": "code",
   "execution_count": 55,
   "metadata": {
    "collapsed": false
   },
   "outputs": [],
   "source": [
    "def format_yaml_se(RUN, samples_se,\n",
    "                   TMP_DIR_ROOT = '/localscratch',\n",
    "                   host_db = '/projects/mammal_glycans/haddad_mice/dbs/mouse/mouse',\n",
    "                   envs = {'KNEAD_ENV': 'source activate kneaddata',\n",
    "                           'BOWTIE_ENV': 'source activate kneaddata',\n",
    "                           'QC_ENV': 'source activate kneaddata',\n",
    "                           'TRIM_ENV': 'source activate kneaddata',\n",
    "                           'HUMANN2_ENV': 'source activate kneaddata',\n",
    "                           'METAPHLAN_ENV': 'source activate kneaddata'},\n",
    "                   software = {'gzip': 'gzip',\n",
    "                               'trimmomatic': '$CONDA_ENV_PATH/share/trimmomatic-*/trimmomatic'},\n",
    "                   params = {'TRIMMOMATIC': {'QUAL': 'LEADING:20 TRAILING:20 AVGQUAL:30 MINLEN:32 TOPHRED33',\n",
    "                                              'ILLUMINACLIP': '2:30:10'},\n",
    "                             'HUMANN2': {'METAPHLAN_DIR': '/home/jgsanders/miniconda/envs/kneaddata/share/metaphlan2',\n",
    "                                         'HUMANN2_NT_DB': '/home/jgsanders/ref_data/humann2/chocophlan',\n",
    "                                         'HUMANN2_AA_DB': '/home/jgsanders/ref_data/humann2/uniref',\n",
    "                                         'NORMS': ['cpm','relab']}},\n",
    "                   default_flow_style = False):\n",
    "                \n",
    "    config_str = ''\n",
    "\n",
    "    config_str += yaml.dump({'TMP_DIR_ROOT': TMP_DIR_ROOT}, default_flow_style = default_flow_style)\n",
    "\n",
    "    config_str += yaml.dump({'RUN': RUN}, default_flow_style = default_flow_style)\n",
    "    \n",
    "    config_str += yaml.dump({'HOST_DB': host_db}, default_flow_style = default_flow_style)\n",
    "    \n",
    "    config_str += yaml.dump({'ENVS': envs}, default_flow_style = default_flow_style)            \n",
    "    \n",
    "    config_str += yaml.dump({'SOFTWARE': software}, default_flow_style = default_flow_style)\n",
    "\n",
    "    config_str += yaml.dump({'PARAMS': params}, default_flow_style = default_flow_style)\n",
    "\n",
    "    config_str += yaml.dump(samples_se, default_flow_style = default_flow_style)\n",
    "    \n",
    "    return(config_str)"
   ]
  },
  {
   "cell_type": "markdown",
   "metadata": {},
   "source": [
    "# Read in the sample data "
   ]
  },
  {
   "cell_type": "code",
   "execution_count": 56,
   "metadata": {
    "collapsed": false
   },
   "outputs": [
    {
     "data": {
      "text/html": [
       "<div>\n",
       "<table border=\"1\" class=\"dataframe\">\n",
       "  <thead>\n",
       "    <tr style=\"text-align: right;\">\n",
       "      <th></th>\n",
       "      <th>Sample Name</th>\n",
       "      <th>Sample Code</th>\n",
       "      <th>Library Size (bp)</th>\n",
       "      <th>Library Prep Method</th>\n",
       "      <th>Index 1 (Name)</th>\n",
       "      <th>Index 1 (Sequence)</th>\n",
       "      <th>Index 2 (Name)</th>\n",
       "      <th>Index 2 (Sequence)</th>\n",
       "      <th>Conc. (nM)</th>\n",
       "      <th>Volume (μl)</th>\n",
       "      <th>Quantification Method</th>\n",
       "      <th>lane</th>\n",
       "    </tr>\n",
       "  </thead>\n",
       "  <tbody>\n",
       "    <tr>\n",
       "      <th>0</th>\n",
       "      <td>sample1</td>\n",
       "      <td>1</td>\n",
       "      <td>400-600</td>\n",
       "      <td>KapaHyperPlus</td>\n",
       "      <td>D001</td>\n",
       "      <td>ATCTAGCCGGCC</td>\n",
       "      <td>NaN</td>\n",
       "      <td>NaN</td>\n",
       "      <td>NaN</td>\n",
       "      <td>NaN</td>\n",
       "      <td>Pico</td>\n",
       "      <td>1</td>\n",
       "    </tr>\n",
       "    <tr>\n",
       "      <th>1</th>\n",
       "      <td>sample2</td>\n",
       "      <td>2</td>\n",
       "      <td>400-600</td>\n",
       "      <td>KapaHyperPlus</td>\n",
       "      <td>D013</td>\n",
       "      <td>AAGCGTACGTCC</td>\n",
       "      <td>NaN</td>\n",
       "      <td>NaN</td>\n",
       "      <td>NaN</td>\n",
       "      <td>NaN</td>\n",
       "      <td>Pico</td>\n",
       "      <td>1</td>\n",
       "    </tr>\n",
       "  </tbody>\n",
       "</table>\n",
       "</div>"
      ],
      "text/plain": [
       "  Sample Name  Sample Code Library Size (bp) Library Prep Method  \\\n",
       "0     sample1            1           400-600       KapaHyperPlus   \n",
       "1     sample2            2           400-600       KapaHyperPlus   \n",
       "\n",
       "  Index 1 (Name) Index 1 (Sequence)  Index 2 (Name)  Index 2 (Sequence)  \\\n",
       "0           D001       ATCTAGCCGGCC             NaN                 NaN   \n",
       "1           D013       AAGCGTACGTCC             NaN                 NaN   \n",
       "\n",
       "   Conc. (nM)  Volume (μl) Quantification Method  lane  \n",
       "0         NaN          NaN                  Pico     1  \n",
       "1         NaN          NaN                  Pico     1  "
      ]
     },
     "execution_count": 56,
     "metadata": {},
     "output_type": "execute_result"
    }
   ],
   "source": [
    "# this is the Excel document provided by IGM\n",
    "sequencing_manifest_fp = './example/reads/example_sample_manifest.xlsx'\n",
    "\n",
    "# If you only want samples from some lanes, you can provide a list of those lane numbers here\n",
    "lanes = []\n",
    "\n",
    "# This is the path to the folder on Barnacle where the raw reads are located\n",
    "seq_dir = './example/reads/Run1/'\n",
    "\n",
    "# Read in the sample manifest \n",
    "sample_sheet = open_sequencing_manifest(sequencing_manifest_fp, lanes=lanes, skiprows=20)\n",
    "\n",
    "sample_sheet"
   ]
  },
  {
   "cell_type": "code",
   "execution_count": 57,
   "metadata": {
    "collapsed": false
   },
   "outputs": [
    {
     "data": {
      "text/html": [
       "<div>\n",
       "<table border=\"1\" class=\"dataframe\">\n",
       "  <thead>\n",
       "    <tr style=\"text-align: right;\">\n",
       "      <th></th>\n",
       "      <th>Sample Name</th>\n",
       "      <th>Sample Code</th>\n",
       "      <th>Library Size (bp)</th>\n",
       "      <th>Library Prep Method</th>\n",
       "      <th>Index 1 (Name)</th>\n",
       "      <th>Index 1 (Sequence)</th>\n",
       "      <th>Index 2 (Name)</th>\n",
       "      <th>Index 2 (Sequence)</th>\n",
       "      <th>Conc. (nM)</th>\n",
       "      <th>Volume (μl)</th>\n",
       "      <th>Quantification Method</th>\n",
       "      <th>lane</th>\n",
       "      <th>Sample Prefix</th>\n",
       "      <th>Sample</th>\n",
       "    </tr>\n",
       "  </thead>\n",
       "  <tbody>\n",
       "    <tr>\n",
       "      <th>0</th>\n",
       "      <td>sample1</td>\n",
       "      <td>1</td>\n",
       "      <td>400-600</td>\n",
       "      <td>KapaHyperPlus</td>\n",
       "      <td>D001</td>\n",
       "      <td>ATCTAGCCGGCC</td>\n",
       "      <td>NaN</td>\n",
       "      <td>NaN</td>\n",
       "      <td>NaN</td>\n",
       "      <td>NaN</td>\n",
       "      <td>Pico</td>\n",
       "      <td>1</td>\n",
       "      <td>sample1</td>\n",
       "      <td>sample1</td>\n",
       "    </tr>\n",
       "    <tr>\n",
       "      <th>1</th>\n",
       "      <td>sample2</td>\n",
       "      <td>2</td>\n",
       "      <td>400-600</td>\n",
       "      <td>KapaHyperPlus</td>\n",
       "      <td>D013</td>\n",
       "      <td>AAGCGTACGTCC</td>\n",
       "      <td>NaN</td>\n",
       "      <td>NaN</td>\n",
       "      <td>NaN</td>\n",
       "      <td>NaN</td>\n",
       "      <td>Pico</td>\n",
       "      <td>1</td>\n",
       "      <td>sample2</td>\n",
       "      <td>sample2</td>\n",
       "    </tr>\n",
       "  </tbody>\n",
       "</table>\n",
       "</div>"
      ],
      "text/plain": [
       "  Sample Name  Sample Code Library Size (bp) Library Prep Method  \\\n",
       "0     sample1            1           400-600       KapaHyperPlus   \n",
       "1     sample2            2           400-600       KapaHyperPlus   \n",
       "\n",
       "  Index 1 (Name) Index 1 (Sequence)  Index 2 (Name)  Index 2 (Sequence)  \\\n",
       "0           D001       ATCTAGCCGGCC             NaN                 NaN   \n",
       "1           D013       AAGCGTACGTCC             NaN                 NaN   \n",
       "\n",
       "   Conc. (nM)  Volume (μl) Quantification Method  lane Sample Prefix   Sample  \n",
       "0         NaN          NaN                  Pico     1       sample1  sample1  \n",
       "1         NaN          NaN                  Pico     1       sample2  sample2  "
      ]
     },
     "execution_count": 57,
     "metadata": {},
     "output_type": "execute_result"
    }
   ],
   "source": [
    "# These columns can be modified with regexes to fix sample names or add common sample prefixes if necessary\n",
    "# sample_sheet['Sample_Prefix'] = sample_sheet['Sample Name'].replace('\\.','_', regex=True)\n",
    "# sample_sheet['Sample'] = sample_sheet['Sample Name'].replace('\\.','_', regex=True)\n",
    "sample_sheet['Sample Prefix'] = sample_sheet['Sample Name']\n",
    "sample_sheet['Sample'] = sample_sheet['Sample Name']\n",
    "\n",
    "sample_sheet"
   ]
  },
  {
   "cell_type": "markdown",
   "metadata": {},
   "source": [
    "Make samples dictionary\n",
    "------\n",
    "\n",
    "This links the sample name to the original location of the forward (and reverse) reads. \n",
    "\n",
    "To instead use single ended reads, cal `samples_se()` instead."
   ]
  },
  {
   "cell_type": "code",
   "execution_count": 58,
   "metadata": {
    "collapsed": false
   },
   "outputs": [
    {
     "data": {
      "text/plain": [
       "{'samples_pe': {'sample1': {'adaptor': '/home/jgsanders/git_sw/git_bin/Trimmomatic-0.36/adapters/TruSeq3-PE-2.fa',\n",
       "   'forward': './example/reads/Run1/sample1_S312_R1_L001.fastq.gz',\n",
       "   'phred': 'phred33',\n",
       "   'reverse': './example/reads/Run1/sample1_S312_R2_L001.fastq.gz'},\n",
       "  'sample2': {'adaptor': '/home/jgsanders/git_sw/git_bin/Trimmomatic-0.36/adapters/TruSeq3-PE-2.fa',\n",
       "   'forward': './example/reads/Run1/sample2_S521_R1_L001.fastq.gz',\n",
       "   'phred': 'phred33',\n",
       "   'reverse': './example/reads/Run1/sample2_S521_R2_L001.fastq.gz'}}}"
      ]
     },
     "execution_count": 58,
     "metadata": {},
     "output_type": "execute_result"
    }
   ],
   "source": [
    "samples_pe = make_sample_dict_pe(sample_sheet, seq_dir,\n",
    "                        adaptor = '/home/jgsanders/git_sw/git_bin/Trimmomatic-0.36/adapters/TruSeq3-PE-2.fa',\n",
    "                        forward = 'R1',\n",
    "                        reverse = 'R2',\n",
    "                        sample_header = 'Sample Prefix',\n",
    "                        sample_name = 'Sample')\n",
    "\n",
    "samples_pe"
   ]
  },
  {
   "cell_type": "markdown",
   "metadata": {
    "collapsed": false
   },
   "source": [
    "Format YAML file\n",
    "================\n",
    "\n",
    "Make the actual config file.\n",
    "\n",
    "Going to want to modify `RUN` variable with a good name for the run.\n",
    "\n",
    "You may also want to pass optional parameters to modify execution. The optional parameters and their defaults are:\n",
    "\n",
    "```\n",
    "TMP_DIR_ROOT = '/localscratch',\n",
    "host_db = '/projects/mammal_glycans/haddad_mice/dbs/mouse/mouse',\n",
    "envs = {'KNEAD_ENV': 'source activate kneaddata',\n",
    "       'BOTWIE_ENV': 'source activate kneaddata',\n",
    "       'QC_ENV': 'source activate kneaddata',\n",
    "       'TRIM_ENV': 'source activate kneaddata',\n",
    "       'HUMANN2_ENV': 'source activate kneaddata'},\n",
    "software = {'gzip': 'gzip',\n",
    "           'trimmomatic': '$CONDA_ENV_PATH/share/trimmomatic-*/trimmomatic'}\n",
    "params = {'TRIMMMOMATIC': {'QUAL': 'LEADING:20 TRAILING:20 AVGQUAL:30 MINLEN:32 TOPHRED33',\n",
    "                          'ILLUMINACLIP': '2:30:10'},\n",
    "         'HUMANN2': {'METAPHLAN_DIR': '/home/jgsanders/miniconda/envs/kneaddata/share/metaphlan2',\n",
    "                     'HUMANN2_NT_DB': '/home/jgsanders/ref_data/humann2/chocophlan',\n",
    "                     'HUMANN2_AA_DB': '/home/jgsanders/ref_data/humann2/uniref'}},\n",
    "```"
   ]
  },
  {
   "cell_type": "code",
   "execution_count": 59,
   "metadata": {
    "collapsed": false
   },
   "outputs": [],
   "source": [
    "RUN = 'Run1'\n",
    "config_str = format_yaml_pe(RUN, samples_pe)\n",
    "with open('config_%s.yaml' % RUN, 'w') as f:\n",
    "    f.write(config_str)"
   ]
  },
  {
   "cell_type": "code",
   "execution_count": 60,
   "metadata": {
    "collapsed": false
   },
   "outputs": [
    {
     "name": "stdout",
     "output_type": "stream",
     "text": [
      "TMP_DIR_ROOT: /localscratch\n",
      "RUN: Run1\n",
      "HOST_DB: /projects/mammal_glycans/haddad_mice/dbs/mouse/mouse\n",
      "ENVS:\n",
      "  BOTWIE_ENV: source activate kneaddata\n",
      "  HUMANN2_ENV: source activate kneaddata\n",
      "  KNEAD_ENV: source activate kneaddata\n",
      "  QC_ENV: source activate kneaddata\n",
      "  TRIM_ENV: source activate kneaddata\n",
      "SOFTWARE:\n",
      "  gzip: gzip\n",
      "  trimmomatic: $CONDA_ENV_PATH/share/trimmomatic-*/trimmomatic\n",
      "PARAMS:\n",
      "  HUMANN2:\n",
      "    HUMANN2_AA_DB: /home/jgsanders/ref_data/humann2/uniref\n",
      "    HUMANN2_NT_DB: /home/jgsanders/ref_data/humann2/chocophlan\n",
      "    METAPHLAN_DIR: /home/jgsanders/miniconda/envs/kneaddata/share/metaphlan2\n",
      "    NORMS:\n",
      "    - cpm\n",
      "    - relab\n",
      "  TRIMMOMATIC:\n",
      "    ILLUMINACLIP: '2:30:10'\n",
      "    QUAL: LEADING:20 TRAILING:20 AVGQUAL:30 MINLEN:32 TOPHRED33\n",
      "samples_pe:\n",
      "  sample1:\n",
      "    adaptor: /home/jgsanders/git_sw/git_bin/Trimmomatic-0.36/adapters/TruSeq3-PE-2.fa\n",
      "    forward: ./example/reads/Run1/sample1_S312_R1_L001.fastq.gz\n",
      "    phred: phred33\n",
      "    reverse: ./example/reads/Run1/sample1_S312_R2_L001.fastq.gz\n",
      "  sample2:\n",
      "    adaptor: /home/jgsanders/git_sw/git_bin/Trimmomatic-0.36/adapters/TruSeq3-PE-2.fa\n",
      "    forward: ./example/reads/Run1/sample2_S521_R1_L001.fastq.gz\n",
      "    phred: phred33\n",
      "    reverse: ./example/reads/Run1/sample2_S521_R2_L001.fastq.gz\n",
      "\n"
     ]
    }
   ],
   "source": [
    "print(config_str)"
   ]
  },
  {
   "cell_type": "code",
   "execution_count": null,
   "metadata": {
    "collapsed": true
   },
   "outputs": [],
   "source": []
  },
  {
   "cell_type": "code",
   "execution_count": null,
   "metadata": {
    "collapsed": true
   },
   "outputs": [],
   "source": []
  }
 ],
 "metadata": {
  "anaconda-cloud": {},
  "kernelspec": {
   "display_name": "Python 3",
   "language": "python",
   "name": "python3"
  },
  "language_info": {
   "codemirror_mode": {
    "name": "ipython",
    "version": 3
   },
   "file_extension": ".py",
   "mimetype": "text/x-python",
   "name": "python",
   "nbconvert_exporter": "python",
   "pygments_lexer": "ipython3",
   "version": "3.5.2"
  }
 },
 "nbformat": 4,
 "nbformat_minor": 0
}
