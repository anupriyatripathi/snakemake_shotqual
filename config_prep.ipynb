{
 "cells": [
  {
   "cell_type": "code",
   "execution_count": 6,
   "metadata": {
    "collapsed": false
   },
   "outputs": [],
   "source": [
    "import glob\n",
    "import os\n",
    "import yaml\n",
    "import pandas as pd\n"
   ]
  },
  {
   "cell_type": "code",
   "execution_count": 2,
   "metadata": {
    "collapsed": true
   },
   "outputs": [],
   "source": [
    "def open_sample_sheet(sample_sheet_fp, lanes=False, skiprows=18):\n",
    "    \"\"\"Read in an IGM sample sheet and return a pandas DF with primary data table\"\"\"\n",
    "    sample_sheet = pd.read_excel(sample_sheet_fp, skiprows = skiprows, header=1)\n",
    "\n",
    "    if lanes:\n",
    "        sample_sheet = sample_sheet.loc[sample_sheet['Lane'].isin(lanes)]\n",
    "\n",
    "    return(sample_sheet)"
   ]
  },
  {
   "cell_type": "code",
   "execution_count": 3,
   "metadata": {
    "collapsed": true
   },
   "outputs": [],
   "source": [
    "def open_sequencing_manifest(manifest_fp, lanes='False', sheetname='Sample Information', skiprows=18):\n",
    "    \"\"\"Read in an IGM sequencing manifest and return a pandas DF with primary data table\"\"\"\n",
    "    sample_sheet = pd.read_excel(manifest_fp, sheetname=sheetname, skiprows=skiprows, header=1)\n",
    "    \n",
    "    if lanes:\n",
    "        sample_sheet = sample_sheet.loc[sample_sheet['lane'].isin(lanes)]\n",
    "        \n",
    "    return(sample_sheet)"
   ]
  },
  {
   "cell_type": "code",
   "execution_count": 4,
   "metadata": {
    "collapsed": true
   },
   "outputs": [],
   "source": [
    "def get_read(sample, seq_dir, read):\n",
    "    \"\"\"Function to pull a given read based on sample name from the reads directory\"\"\"\n",
    "    reads = glob.glob(os.path.join(seq_dir, \"{0}_*_{1}_*.fastq.gz\".format(sample, read)))\n",
    "    if len(reads) == 1:\n",
    "        return(reads[0])\n",
    "    elif len(reads) > 1:\n",
    "        raise ValueError('Too many reads found for {0} in {1}:\\n'\n",
    "                         'read_str: {2}'.format(sample, seq_dir, reads))\n",
    "    elif len(reads) < 1:\n",
    "        raise ValueError('Too few reads found for {0} in {1}:\\n'\n",
    "                         'read_str: {1}\\n'.format(sample, seq_dir, reads))   "
   ]
  },
  {
   "cell_type": "code",
   "execution_count": 17,
   "metadata": {
    "collapsed": true
   },
   "outputs": [],
   "source": [
    "def make_sample_dict_pe(sample_sheet, seq_dir,\n",
    "                        forward = 'R1',\n",
    "                        reverse = 'R2',\n",
    "                        adaptor = '$CONDA_ENV_PATH/share/trimmomatic-*/adapters/TruSeq3-PE-2.fa',\n",
    "                        phred = 'phred33',\n",
    "                        sample_header = 'Sample_Prefix',\n",
    "                        sample_name = 'Sample',\n",
    "                        tolerate_losses = True):\n",
    "    \n",
    "    samples_pe = {'samples_pe': {}}\n",
    "    for x in sample_sheet.index:\n",
    "        try:\n",
    "            samples_pe['samples_pe'][sample_sheet.loc[x, sample_name]] = {\n",
    "               'forward': get_read(sample_sheet.loc[x, sample_header], seq_dir, forward),\n",
    "               'reverse': get_read(sample_sheet.loc[x, sample_header], seq_dir, reverse),\n",
    "               'adaptor': adaptor,\n",
    "               'phred': phred\n",
    "            }\n",
    "        except ValueError:\n",
    "            if tolerate_losses:\n",
    "                print('No sequences found for %s' % sample_sheet.loc[x, sample_name])\n",
    "            else:\n",
    "                raise ValueError\n",
    "    \n",
    "    return(samples_pe)"
   ]
  },
  {
   "cell_type": "code",
   "execution_count": 18,
   "metadata": {
    "collapsed": true
   },
   "outputs": [],
   "source": [
    "def make_sample_dict_se(sample_sheet, seq_dir,\n",
    "                        forward = 'R1',\n",
    "                        adaptor = '$CONDA_ENV_PATH/share/trimmomatic-*/adapters/TruSeq3-PE-2.fa',\n",
    "                        phred = 'phred33',\n",
    "                        sample_header = 'Sample_Prefix',\n",
    "                        sample_name = 'Sample',\n",
    "                        tolerate_losses = True):\n",
    "    \n",
    "    samples_pe = {'samples_pe': {}}\n",
    "    for x in sample_sheet.index:\n",
    "        try:\n",
    "            samples_pe['samples_pe'][sample_sheet.loc[x, sample_name]] = {\n",
    "               'forward': get_read(sample_sheet.loc[x, sample_header], seq_dir, forward),\n",
    "               'adaptor': adaptor,\n",
    "               'phred': phred\n",
    "            }\n",
    "        except ValueError:\n",
    "            if tolerate_losses:\n",
    "                print('No sequences found for %s' % sample_sheet.loc[x, sample_name])\n",
    "            else:\n",
    "                raise ValueError\n",
    "    \n",
    "    return(samples_pe)"
   ]
  },
  {
   "cell_type": "code",
   "execution_count": 19,
   "metadata": {
    "collapsed": true
   },
   "outputs": [],
   "source": [
    "def format_yaml_pe(RUN, samples_pe,\n",
    "                   TMP_DIR_ROOT = '/localscratch',\n",
    "                   trimmomatic_path = '$CONDA_ENV_PATH/share/trimmomatic-*/trimmomatic',\n",
    "                   adaptor = '$CONDA_ENV_PATH/share/trimmomatic-*/adapters/TruSeq3-PE-2.fa',\n",
    "                   gzip_path = 'gzip',\n",
    "                   knead_env = 'source activate kneaddata',\n",
    "                   bowtie_env = 'source activate kneaddata',\n",
    "                   qc_env = 'source activate kneaddata',\n",
    "                   trim_env = 'source activate kneaddata',\n",
    "                   host_db = '/projects/mammal_glycans/haddad_mice/dbs/mouse/mouse',\n",
    "                   params = {'trimmomatic_params': 'LEADING:20 TRAILING:20 AVGQUAL:30 MINLEN:32 TOPHRED33'},\n",
    "                   default_flow_style = False):\n",
    "    \n",
    "    config_str = ''\n",
    "\n",
    "    config_str += yaml.dump({'TMP_DIR_ROOT': TMP_DIR_ROOT}, default_flow_style = default_flow_style)\n",
    "\n",
    "    config_str += yaml.dump({'RUN': RUN}, default_flow_style = default_flow_style)\n",
    "    \n",
    "    config_str += yaml.dump({'KNEAD_ENV': knead_env}, default_flow_style = default_flow_style)\n",
    "    \n",
    "    config_str += yaml.dump({'BOWTIE_ENV': bowtie_env}, default_flow_style = default_flow_style)\n",
    "        \n",
    "    config_str += yaml.dump({'QC_ENV': qc_env}, default_flow_style = default_flow_style)\n",
    "        \n",
    "    config_str += yaml.dump({'TRIM_ENV': trim_env}, default_flow_style = default_flow_style)\n",
    "            \n",
    "    config_str += yaml.dump({'HOST_DB': host_db}, default_flow_style = default_flow_style)\n",
    "    \n",
    "    config_str += yaml.dump(samples_pe, default_flow_style = default_flow_style)\n",
    "\n",
    "    config_str += yaml.dump({'software': \n",
    "                   {'trimmomatic': trimmomatic_path,\n",
    "                    'gzip': gzip_path}\n",
    "              }, default_flow_style = default_flow_style)\n",
    "\n",
    "    config_str += yaml.dump(params,\n",
    "                            default_flow_style = default_flow_style)\n",
    "\n",
    "    return(config_str)"
   ]
  },
  {
   "cell_type": "code",
   "execution_count": 20,
   "metadata": {
    "collapsed": true
   },
   "outputs": [],
   "source": [
    "def format_yaml_se(RUN, samples_se,\n",
    "                   TMP_DIR_ROOT = '/localscratch',\n",
    "                   trimmomatic_path = '$CONDA_ENV_PATH/share/trimmomatic-*',\n",
    "                   adaptor = '$CONDA_ENV_PATH/share/trimmomatic-*/adapters/TruSeq3-PE-2.fa',\n",
    "                   kneaddata_db = '$CONDA_ENV_PATH/share/kd_dbs/demo',\n",
    "                   gzip_path = 'gzip',\n",
    "                   knead_env = 'source activate kneaddata',\n",
    "                   params = {'trimmomatic_params': 'LEADING:20 TRAILING:20 AVGQUAL:30 MINLEN:32 TOPHRED33'},\n",
    "                   default_flow_style = False):\n",
    "    \n",
    "    config_str = ''\n",
    "\n",
    "    config_str += yaml.dump({'TMP_DIR_ROOT': TMP_DIR_ROOT}, default_flow_style = default_flow_style)\n",
    "\n",
    "    config_str += yaml.dump({'RUN': RUN}, default_flow_style = default_flow_style)\n",
    "\n",
    "    config_str += yaml.dump({'KNEAD_ENV': knead_env}, default_flow_style = default_flow_style)\n",
    "    \n",
    "    config_str += yaml.dump({'kneaddata_db': kneaddata_db}, default_flow_style = default_flow_style)\n",
    "    \n",
    "    config_str += yaml.dump(samples_se, default_flow_style = default_flow_style)\n",
    "\n",
    "    config_str += yaml.dump({'software': \n",
    "                   {'trimmomatic': trimmomatic_path,\n",
    "                    'gzip': gzip_path}\n",
    "              }, default_flow_style = default_flow_style)\n",
    "\n",
    "    config_str += yaml.dump(params,\n",
    "                            default_flow_style = default_flow_style)\n",
    "\n",
    "    return(config_str)"
   ]
  },
  {
   "cell_type": "markdown",
   "metadata": {},
   "source": [
    "# Read in the sample data "
   ]
  },
  {
   "cell_type": "code",
   "execution_count": 11,
   "metadata": {
    "collapsed": false
   },
   "outputs": [
    {
     "data": {
      "text/html": [
       "<div>\n",
       "<table border=\"1\" class=\"dataframe\">\n",
       "  <thead>\n",
       "    <tr style=\"text-align: right;\">\n",
       "      <th></th>\n",
       "      <th>Lane</th>\n",
       "      <th>Sample_ID</th>\n",
       "      <th>Sample_Name</th>\n",
       "      <th>Sample_Plate</th>\n",
       "      <th>Sample_Well</th>\n",
       "      <th>I7_Index_ID</th>\n",
       "      <th>index</th>\n",
       "      <th>Sample_Project</th>\n",
       "      <th>Description</th>\n",
       "      <th>Sample_Prefix</th>\n",
       "      <th>Sample</th>\n",
       "    </tr>\n",
       "  </thead>\n",
       "  <tbody>\n",
       "    <tr>\n",
       "      <th>0</th>\n",
       "      <td>1</td>\n",
       "      <td>sample1</td>\n",
       "      <td>NaN</td>\n",
       "      <td>NaN</td>\n",
       "      <td>NaN</td>\n",
       "      <td>NaN</td>\n",
       "      <td>NaN</td>\n",
       "      <td>NaN</td>\n",
       "      <td>NaN</td>\n",
       "      <td>NaN</td>\n",
       "      <td>NaN</td>\n",
       "    </tr>\n",
       "    <tr>\n",
       "      <th>1</th>\n",
       "      <td>1</td>\n",
       "      <td>sample2</td>\n",
       "      <td>NaN</td>\n",
       "      <td>NaN</td>\n",
       "      <td>NaN</td>\n",
       "      <td>NaN</td>\n",
       "      <td>NaN</td>\n",
       "      <td>NaN</td>\n",
       "      <td>NaN</td>\n",
       "      <td>NaN</td>\n",
       "      <td>NaN</td>\n",
       "    </tr>\n",
       "  </tbody>\n",
       "</table>\n",
       "</div>"
      ],
      "text/plain": [
       "   Lane Sample_ID  Sample_Name  Sample_Plate  Sample_Well  I7_Index_ID  index  \\\n",
       "0     1   sample1          NaN           NaN          NaN          NaN    NaN   \n",
       "1     1   sample2          NaN           NaN          NaN          NaN    NaN   \n",
       "\n",
       "   Sample_Project  Description  Sample_Prefix  Sample  \n",
       "0             NaN          NaN            NaN     NaN  \n",
       "1             NaN          NaN            NaN     NaN  "
      ]
     },
     "execution_count": 11,
     "metadata": {},
     "output_type": "execute_result"
    }
   ],
   "source": [
    "# this is the Excel document provided by IGM\n",
    "sequencing_manifest_fp = './example/reads/example_sample_sheet.xls'\n",
    "\n",
    "# If you only want samples from some lanes, you can provide a list of those lane numbers here\n",
    "lanes = []\n",
    "\n",
    "# This is the path to the folder on Barnacle where the raw reads are located\n",
    "seq_dir = './example/reads/Run1/'\n",
    "\n",
    "# Read in the sample manifest \n",
    "sample_sheet = open_sample_sheet(sequencing_manifest_fp, lanes=lanes)\n",
    "\n",
    "# These columns can be modified with regexes to fix sample names or add common sample prefixes if necessary\n",
    "# sample_sheet['Sample_Prefix'] = sample_sheet['Sample Name'].replace('\\.','_', regex=True)\n",
    "# sample_sheet['Sample'] = sample_sheet['Sample Name'].replace('\\.','_', regex=True)\n",
    "sample_sheet['Sample_Prefix'] = sample_sheet['Sample_Name']\n",
    "sample_sheet['Sample'] = sample_sheet['Sample_Name']\n",
    "\n",
    "sample_sheet"
   ]
  },
  {
   "cell_type": "markdown",
   "metadata": {},
   "source": [
    "Make samples dictionary\n",
    "------\n",
    "\n",
    "This links the sample name to the original location of the forward (and reverse) reads. \n",
    "\n",
    "To instead use single ended reads, cal `samples_se()` instead."
   ]
  },
  {
   "cell_type": "code",
   "execution_count": 15,
   "metadata": {
    "collapsed": false
   },
   "outputs": [
    {
     "name": "stdout",
     "output_type": "stream",
     "text": [
      "No sequences found for nan\n",
      "No sequences found for nan\n"
     ]
    }
   ],
   "source": [
    "samples_pe = make_sample_dict_pe(sample_sheet, seq_dir,\n",
    "                        adaptor = '/home/jgsanders/git_sw/git_bin/Trimmomatic-0.36/adapters/TruSeq3-PE-2.fa',\n",
    "                        forward = 'R1',\n",
    "                        reverse = 'R2',\n",
    "                        sample_header = 'Sample_Prefix',\n",
    "                        sample_name = 'Sample')"
   ]
  },
  {
   "cell_type": "markdown",
   "metadata": {
    "collapsed": false
   },
   "source": [
    "Format YAML file\n",
    "================\n",
    "\n",
    "Make the actual config file.\n",
    "\n",
    "Going to want to modify `RUN` variable with a good name for the run.\n",
    "\n",
    "You may also want to pass optional parameters to modify execution. The optional parameters and their defaults are:\n",
    "\n",
    "```\n",
    "TMP_DIR_ROOT = '/localscratch',\n",
    "trimmomatic_path = '$CONDA_ENV_PATH/share/trimmomatic-*',\n",
    "adaptor = '$CONDA_ENV_PATH/share/trimmomatic-*/adapters/TruSeq3-PE-2.fa',\n",
    "kneaddata_db = '$CONDA_ENV_PATH/share/kd_dbs/demo',\n",
    "gzip_path = 'gzip',\n",
    "knead_env = 'source activate kneaddata',\n",
    "params = {'trimmomatic_params': 'LEADING:20 TRAILING:20 AVGQUAL:30 MINLEN:32 TOPHRED33'}\n",
    "```"
   ]
  },
  {
   "cell_type": "code",
   "execution_count": 21,
   "metadata": {
    "collapsed": false
   },
   "outputs": [],
   "source": [
    "RUN = 'Run1'\n",
    "config_str = format_yaml_pe(RUN, samples_pe)\n",
    "with open('config_%s.yaml' % RUN, 'w') as f:\n",
    "    f.write(config_str)"
   ]
  },
  {
   "cell_type": "code",
   "execution_count": 22,
   "metadata": {
    "collapsed": false
   },
   "outputs": [
    {
     "name": "stdout",
     "output_type": "stream",
     "text": [
      "TMP_DIR_ROOT: /localscratch\n",
      "RUN: Run1\n",
      "KNEAD_ENV: source activate kneaddata\n",
      "BOWTIE_ENV: source activate kneaddata\n",
      "QC_ENV: source activate kneaddata\n",
      "TRIM_ENV: source activate kneaddata\n",
      "HOST_DB: /projects/mammal_glycans/haddad_mice/dbs/mouse/mouse\n",
      "samples_pe: {}\n",
      "software:\n",
      "  gzip: gzip\n",
      "  trimmomatic: $CONDA_ENV_PATH/share/trimmomatic-*/trimmomatic\n",
      "trimmomatic_params: LEADING:20 TRAILING:20 AVGQUAL:30 MINLEN:32 TOPHRED33\n",
      "\n"
     ]
    }
   ],
   "source": [
    "print(config_str)"
   ]
  }
 ],
 "metadata": {
  "anaconda-cloud": {},
  "kernelspec": {
   "display_name": "Python [default]",
   "language": "python",
   "name": "python3"
  },
  "language_info": {
   "codemirror_mode": {
    "name": "ipython",
    "version": 3
   },
   "file_extension": ".py",
   "mimetype": "text/x-python",
   "name": "python",
   "nbconvert_exporter": "python",
   "pygments_lexer": "ipython3",
   "version": "3.5.2"
  }
 },
 "nbformat": 4,
 "nbformat_minor": 0
}
